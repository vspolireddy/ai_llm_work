{
 "cells": [
  {
   "cell_type": "code",
   "execution_count": 5,
   "id": "9cc43202-f404-451c-bbeb-7ad2fabb99f1",
   "metadata": {},
   "outputs": [],
   "source": [
    "# imports\n",
    "import os\n",
    "import requests\n",
    "import json\n",
    "from typing import List\n",
    "from dotenv import load_dotenv\n",
    "from bs4 import BeautifulSoup\n",
    "from IPython.display import Markdown, display, update_display\n",
    "from openai import OpenAI\n",
    "import ollama"
   ]
  },
  {
   "cell_type": "code",
   "execution_count": 10,
   "id": "b217214d-3433-4334-8396-4a2e362d6782",
   "metadata": {},
   "outputs": [],
   "source": [
    "load_dotenv()\n",
    "openai = OpenAI()\n",
    "\n",
    "\n",
    "# constants\n",
    "\n",
    "MODEL_GPT = 'gpt-4o-mini'\n",
    "MODEL_LLAMA = 'llama3.2'"
   ]
  },
  {
   "cell_type": "code",
   "execution_count": 11,
   "id": "f17dbf18-9b6e-4520-ad4d-abb044c8f5e3",
   "metadata": {},
   "outputs": [],
   "source": [
    "#question\n",
    "\n",
    "question = \"\"\"\n",
    "Please explain what this code does and why:\n",
    "yield from {book.get(\"author\") for book in books if book.get(\"author\")}\n",
    "\"\"\"\n",
    "\n",
    "# prompts\n",
    "\n",
    "system_prompt = \"You are a helpful technical tutor who answers questions about python code, software engineering, data science and LLMs\"\n",
    "user_prompt = \"Please give a detailed explanation to the following question: \" + question\n",
    "\n",
    "\n",
    "# messages a basic standard for models\n",
    "\n",
    "messages = [\n",
    "    {\"role\": \"system\", \"content\": system_prompt},  #input by devloper/adv user ,sets: mood/context, behavior, persona, rules\n",
    "    {\"role\": \"user\", \"content\": user_prompt}   #input from user, asking question or task for model to answer or do\n",
    "]"
   ]
  },
  {
   "cell_type": "code",
   "execution_count": 12,
   "id": "a1718202-fd7c-4c8c-a258-67779d71b50c",
   "metadata": {
    "scrolled": true
   },
   "outputs": [
    {
     "data": {
      "text/markdown": [
       "The line of code you've provided makes use of Python's `yield` statement in conjunction with a generator expression. Let's break it down step by step to understand what it does and why it is structured this way.\n",
       "\n",
       "### Breakdown of the Code\n",
       "\n",
       "1. **`yield from`**:\n",
       "   - The statement `yield from <iterable>` is used in Python to yield all values from a given iterable. This allows a generator function to delegate part of its operations to another generator or iterable.\n",
       "   - It simplifies the code you would write if you were using a loop to yield each item one by one.\n",
       "\n",
       "2. **The Set Comprehension**:\n",
       "   - `{book.get(\"author\") for book in books if book.get(\"author\")}` is a set comprehension. Let's break it down further:\n",
       "     - `book for book in books`: This iterates over the collection (in this case, a list or other iterable) called `books`.\n",
       "     - `book.get(\"author\")`: This calls the `get` method on each `book`, which is presumably a dictionary. The `get` method will retrieve the value associated with the key `\"author\"`.\n",
       "     - `if book.get(\"author\")`: This is a conditional that filters out any books that do not have an author (i.e., it will not include books for which the `get(\"author\")` call returns `None` or an empty value).\n",
       "\n",
       "3. **What the set comprehension does**:\n",
       "   - The entire expression `{book.get(\"author\") for book in books if book.get(\"author\")}` creates a set of unique authors found in the `books`. It ensures each author appears only once in the resulting set, effectively removing duplicates.\n",
       "\n",
       "### Putting It All Together\n",
       "\n",
       "The complete line of code can be interpreted as:\n",
       "\n",
       "- It yields each unique author from a collection of book dictionaries, provided that an author exists for that book entry.\n",
       "- If `books` is a list of book dictionaries (where each dictionary contains potentially various keys, including \"author\"), this line will extract the authors and yield them one by one.\n",
       "\n",
       "### Purpose and Why It Is Used:\n",
       "\n",
       "- **Efficiency and Clean Code**: Using `yield from` combined with a set comprehension allows for a concise and efficient way to generate a stream of unique authors without needing a separate loop to handle the yielding. It maintains clarity and leverages Python's powerful comprehension and generator features.\n",
       "  \n",
       "- **Handling Duplicates Gracefully**: By using a set comprehension, it naturally handles the case where multiple books might have the same author, providing a unique set of authors.\n",
       "\n",
       "### Example:\n",
       "\n",
       "Assuming we have the following input:\n",
       "\n",
       "python\n",
       "books = [\n",
       "    {\"title\": \"Book One\", \"author\": \"Author A\"},\n",
       "    {\"title\": \"Book Two\", \"author\": \"Author B\"},\n",
       "    {\"title\": \"Book Three\", \"author\": \"Author A\"},  # Duplicate author\n",
       "    {\"title\": \"Book Four\", \"author\": None},         # No author\n",
       "    {\"title\": \"Book Five\", \"author\": \"Author C\"},\n",
       "]\n",
       "\n",
       "\n",
       "The line of code will yield:\n",
       "\n",
       "\n",
       "\"Author A\"\n",
       "\"Author B\"\n",
       "\"Author C\"\n",
       "\n",
       "\n",
       "In summary, the code is a compact and efficient way to extract and yield unique authors from a collection of book dictionaries, while ignoring books without authors."
      ],
      "text/plain": [
       "<IPython.core.display.Markdown object>"
      ]
     },
     "metadata": {},
     "output_type": "display_data"
    }
   ],
   "source": [
    "# Get gpt-4o-mini to answer, with streaming\n",
    "\n",
    "stream = openai.chat.completions.create(model=MODEL_GPT, messages=messages,stream=True)\n",
    "    \n",
    "response = \"\"\n",
    "display_handle = display(Markdown(\"\"), display_id=True)\n",
    "for chunk in stream:\n",
    "    response += chunk.choices[0].delta.content or ''\n",
    "    response = response.replace(\"```\",\"\").replace(\"markdown\", \"\")\n",
    "    update_display(Markdown(response), display_id=display_handle.display_id)"
   ]
  },
  {
   "cell_type": "code",
   "execution_count": null,
   "id": "77c5b9d0-e687-49d4-8ed0-611b586c1a51",
   "metadata": {},
   "outputs": [],
   "source": []
  }
 ],
 "metadata": {
  "kernelspec": {
   "display_name": "Python 3 (ipykernel)",
   "language": "python",
   "name": "python3"
  },
  "language_info": {
   "codemirror_mode": {
    "name": "ipython",
    "version": 3
   },
   "file_extension": ".py",
   "mimetype": "text/x-python",
   "name": "python",
   "nbconvert_exporter": "python",
   "pygments_lexer": "ipython3",
   "version": "3.11.11"
  }
 },
 "nbformat": 4,
 "nbformat_minor": 5
}
