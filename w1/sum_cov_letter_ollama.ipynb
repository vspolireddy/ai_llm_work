{
 "cells": [
  {
   "cell_type": "code",
   "execution_count": 19,
   "id": "78b6b9b5-ea9d-48a6-b541-a371271a692c",
   "metadata": {},
   "outputs": [],
   "source": [
    "#imports\n",
    "#Ollama is an open-source platform that allows you to \n",
    "#easily run and manage large language models\n",
    "#(LLMs) locally on your own computer\n",
    "\n",
    "\n",
    "import ollama\n",
    "import requests\n",
    "from bs4 import BeautifulSoup\n",
    "from IPython.display import Markdown, display"
   ]
  },
  {
   "cell_type": "code",
   "execution_count": 20,
   "id": "3d8a6f19-02b1-49f5-b966-ef4984bc485f",
   "metadata": {},
   "outputs": [],
   "source": [
    "# Constants\n",
    "\n",
    "OLLAMA_API = \"http://localhost:11434/api/chat\"\n",
    "HEADERS = {\"Content-Type\": \"application/json\"}\n",
    "MODEL = \"llama3.2\""
   ]
  },
  {
   "cell_type": "code",
   "execution_count": 16,
   "id": "84e4dc4b-6566-4d96-9675-13f9e094f307",
   "metadata": {},
   "outputs": [],
   "source": [
    "MODEL = \"llama3.2\"\n",
    "def summarize_cv(cv_text):\n",
    "    response = ollama.chat(\n",
    "        model = MODEL,\n",
    "        messages = [\n",
    "            {\"role\": \"user\", \"content\": f\"summarize the following CV:\\n\\n{cv_text}\"}\n",
    "        ]\n",
    "    ) \n",
    "    return response['message']['content']"
   ]
  },
  {
   "cell_type": "code",
   "execution_count": 17,
   "id": "eed3cb30-52eb-4c5c-9f43-1ea75ccda6ef",
   "metadata": {},
   "outputs": [],
   "source": [
    "MODEL = \"llama3.2\"\n",
    "def generate_cover_letter(cv_summary, job_description):\n",
    "    response = ollama.chat(\n",
    "        model = MODEL,\n",
    "        messages = [\n",
    "            {\"role\": \"system\", \"content\": \"You are a indespensible crafter of reading and selecting the skills sets and generating cover letters from a CV and also showing the name\"},\n",
    "            {\"role\": \"user\", \"content\": f\"Using the following CV summary:\\n\\n{cv_summary}\\n\\nAnd the job description:\\n\\n{job_description}\\n\\nPlease write a personalized cover letter.\"}\n",
    "        ]\n",
    "    )\n",
    "    return response['message']['content']"
   ]
  },
  {
   "cell_type": "code",
   "execution_count": 18,
   "id": "9acea2d8-86ec-4657-b1f2-0393453c2de5",
   "metadata": {},
   "outputs": [
    {
     "name": "stdout",
     "output_type": "stream",
     "text": [
      "CV Summary:\n",
      "Here's a summary of the CV:\n",
      "\n",
      "**Summary:**\n",
      "Highly experienced Senior Data Engineer with expertise in data engineering, architecture, and management. Proven track record of designing, deploying, and optimizing complex data pipelines and infrastructures across various platforms.\n",
      "\n",
      "**Key Skills:**\n",
      "\n",
      "* Spark/Pyspark/Scala\n",
      "* Java/Python\n",
      "* Amazon Web Services (Cloud)\n",
      "* Kubernetes/Knative\n",
      "* AWS SageMaker/Machine Learning Infrastructure\n",
      "* Data Analytics\n",
      "\n",
      "**Experience:**\n",
      "\n",
      "* **Senior Data Analytics & Platform Engineer**, Blue Cross Blue Shield NC (2022-2024): Designed and implemented event-driven Kafka pipelines, microservices architecture on Kubernetes, and data migration initiatives to Snowflake.\n",
      "* **Sr Data Engineer**, NIKE (2021-2022) and Lexis Nexis (2017-2020): Built containerized services, orchestrated containers on Kubernetes, and utilized AWS services for cloud interactions and integrations.\n",
      "* **Software Engineer III Spark/Cloud**, Lexis Nexis (2017-2020): Designed data pipelines leveraging Scala, developed containerized services, and optimized computing capabilities using AWS Elastic Map Reduce (EMR)/Yarn.\n",
      "\n",
      "**Education:**\n",
      "\n",
      "* Bachelor of Science in Computer Science, East Carolina University\n",
      "* Master of Science in Data Science Coursework, University of Wisconsin\n",
      "\n",
      "**Certifications/Awards:**\n",
      "\n",
      "* None mentioned\n",
      "\n",
      "**Notable Achievements:**\n",
      "\n",
      "* Designed and implemented a sophisticated polling service for real-time data surveillance and instant communication.\n",
      "* Built custom Argo Workflows orchestrating PySpark containers in K8s for ETL pipelines.\n",
      "* Optimized cloud resources, ensuring cost-efficiency while maintaining high performance and reliability.\n",
      "\n",
      "This CV showcases the candidate's extensive experience in data engineering, architecture, and management. They have expertise in various technologies, including Spark, Java, Python, AWS Cloud, and Kubernetes.\n"
     ]
    },
    {
     "name": "stdin",
     "output_type": "stream",
     "text": [
      "Enter the job description for the position you are applying for:\n",
      " #spark\n"
     ]
    },
    {
     "name": "stdout",
     "output_type": "stream",
     "text": [
      "\n",
      "Generated Cover Letter:\n",
      "Here is a personalized cover letter based on the provided CV summary and job description:\n",
      "\n",
      "Dear Hiring Manager,\n",
      "\n",
      "I'm excited to apply for the Data Engineer position at [Company Name], as advertised on [Job Board/Source]. With over 7 years of experience in designing, deploying, and optimizing complex data pipelines and infrastructures across various platforms, I'm confident that my skills and expertise make me an ideal fit for this role.\n",
      "\n",
      "As a seasoned Senior Data Engineer, I've had the privilege of working with top-tier companies such as Blue Cross Blue Shield NC, NIKE, and Lexis Nexis. My most recent experience at Blue Cross Blue Shield NC has equipped me with expertise in event-driven Kafka pipelines, microservices architecture on Kubernetes, and data migration initiatives to Snowflake. I'm well-versed in AWS Cloud services, including Amazon Web Services (Cloud), Kubernetes/Knative, and AWS SageMaker/Machine Learning Infrastructure.\n",
      "\n",
      "My proficiency in programming languages such as Java, Python, Spark/Pyspark/Scala has enabled me to effectively design and develop scalable data solutions. Additionally, my experience with containerization using Docker and orchestration on Kubernetes has allowed me to efficiently manage complex microservices architecture.\n",
      "\n",
      "What sets me apart from other candidates is my ability to not only build data pipelines but also optimize cloud resources for cost-efficiency while maintaining high performance and reliability. My notable achievements include designing a sophisticated polling service, building custom Argo Workflows orchestrating PySpark containers in K8s for ETL pipelines, and optimizing cloud resources.\n",
      "\n",
      "I'm particularly drawn to this role because of the opportunity to work with [Company Name]'s cutting-edge technology stack and contribute my expertise to drive business success. I'm excited about the prospect of joining a talented team of data engineers and collaborating on projects that make a meaningful impact.\n",
      "\n",
      "Thank you for considering my application. I'd welcome the chance to discuss this opportunity further and explain in greater detail why I'm the ideal candidate for this role. Please feel free to contact me at [Your Contact Information].\n",
      "\n",
      "Sincerely,\n",
      "\n",
      "[Your Name]\n",
      "\n",
      "Senior Data Engineer\n",
      "[Your LinkedIn Profile (optional)]\n"
     ]
    }
   ],
   "source": [
    "# Read CV from a text file\n",
    "try:\n",
    "    with open('data/cv.txt', 'r') as file:\n",
    "        cv_text = file.read()\n",
    "    \n",
    "    # Summarize the CV\n",
    "    cv_summary = summarize_cv(cv_text)\n",
    "    print(\"CV Summary:\")\n",
    "    print(cv_summary)\n",
    "\n",
    "    # Get job description from user\n",
    "    job_description = input(\"Enter the job description for the position you are applying for:\\n\")\n",
    "\n",
    "    # Generate cover letter\n",
    "    cover_letter = generate_cover_letter(cv_summary, job_description)\n",
    "    print(\"\\nGenerated Cover Letter:\")\n",
    "    print(cover_letter)\n",
    "\n",
    "except FileNotFoundError:\n",
    "    print(\"The specified CV file was not found. Please ensure 'resume.txt' is in the correct directory.\")"
   ]
  },
  {
   "cell_type": "code",
   "execution_count": null,
   "id": "4051d2b0-f5c5-4e46-b747-5f47cff6c74a",
   "metadata": {},
   "outputs": [],
   "source": []
  }
 ],
 "metadata": {
  "kernelspec": {
   "display_name": "Python 3 (ipykernel)",
   "language": "python",
   "name": "python3"
  },
  "language_info": {
   "codemirror_mode": {
    "name": "ipython",
    "version": 3
   },
   "file_extension": ".py",
   "mimetype": "text/x-python",
   "name": "python",
   "nbconvert_exporter": "python",
   "pygments_lexer": "ipython3",
   "version": "3.11.11"
  }
 },
 "nbformat": 4,
 "nbformat_minor": 5
}
