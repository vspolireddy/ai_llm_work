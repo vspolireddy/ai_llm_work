{
 "cells": [
  {
   "cell_type": "code",
   "execution_count": 3,
   "id": "2b4dc2f9-5a95-4129-90e8-c57f0c67510b",
   "metadata": {},
   "outputs": [],
   "source": [
    "#come up with a Brochure of a company\n",
    "\n",
    "import os\n",
    "import requests\n",
    "import json\n",
    "from typing import List\n",
    "from dotenv import load_dotenv\n",
    "from bs4 import BeautifulSoup\n",
    "from IPython.display import Markdown, display, update_display\n",
    "from openai import OpenAI"
   ]
  },
  {
   "cell_type": "code",
   "execution_count": 4,
   "id": "d8a74c03-a0f0-45a4-bf62-c25f522e0878",
   "metadata": {},
   "outputs": [],
   "source": [
    "load_dotenv()\n",
    "os.environ['OPENAI_API_KEY'] = os.getenv('OPENAI_API_KEY', 'your-key-if-not-using-env')\n",
    "MODEL = 'gpt-4o-mini'\n",
    "openai = OpenAI()"
   ]
  },
  {
   "cell_type": "code",
   "execution_count": 7,
   "id": "131ad85d-7e2a-46f3-9269-0c6e7318c7f5",
   "metadata": {},
   "outputs": [],
   "source": [
    "# A class to represent a Webpage\n",
    "\n",
    "# Some websites need you to use proper headers when fetching them:\n",
    "headers = {\n",
    " \"User-Agent\": \"Mozilla/5.0 (Windows NT 10.0; Win64; x64) AppleWebKit/537.36 (KHTML, like Gecko) Chrome/117.0.0.0 Safari/537.36\"\n",
    "}\n",
    "\n",
    "class Website:\n",
    "    \"\"\"\n",
    "    A utility class to represent and scrape links from a url \n",
    "    \"\"\"\n",
    "\n",
    "    def __init__(self, url):\n",
    "        self.url = url\n",
    "        response = requests.get(url, headers=headers)\n",
    "        self.body = response.content\n",
    "        soup = BeautifulSoup(self.body, 'html.parser')\n",
    "        self.title = soup.title.string if soup.title else \"No title found\"\n",
    "        if soup.body:\n",
    "            for irrelevant in soup.body([\"script\", \"style\", \"img\", \"input\"]):\n",
    "                irrelevant.decompose()\n",
    "            self.text = soup.body.get_text(separator=\"\\n\", strip=True)\n",
    "        else:\n",
    "            self.text = \"\"\n",
    "        links = [link.get('href') for link in soup.find_all('a')]\n",
    "        self.links = [link for link in links if link]\n",
    "\n",
    "    def get_contents(self):\n",
    "        return f\"Webpage Title:\\n{self.title}\\nWebpage Contents:\\n{self.text}\\n\\n\""
   ]
  },
  {
   "cell_type": "code",
   "execution_count": 8,
   "id": "9cd7808b-8f4d-4c5c-99d8-9cf353ce1416",
   "metadata": {
    "scrolled": true
   },
   "outputs": [],
   "source": [
    "nk = Website(\"https://nike.com\")\n",
    "# nk.links\n",
    "\n",
    "# '#skip-to-content',\n",
    "#  'https://www.nike.com/jordan',\n",
    "#  'https://www.nike.com/w/converse-akmjx',\n",
    "#  'https://www.nike.com/retail',\n",
    "#  'https://www.nike.com/help',\n",
    "#  'https://www.nike.com/help',\n",
    "#  'https://www.nike.com/orders/details/',\n",
    "#  'https://www.nike.com/help/a/shipping-delivery',\n",
    "#  'https://www.nike.com/help/a/returns-policy',\n",
    "#  'https://www.nike.com/help/a/change-cancel-order',\n",
    "#  'https://www.nike.com/help/a/size-charts',\n",
    "#  'https://www.nike.com/help/#contact',\n",
    "#  'https://www.nike.com/membership',\n",
    "#  'https://www.nike.com/promo-code',\n",
    "#  'https://www.nike.com/product-advice',\n",
    "#  '#site-feedback',\n",
    "#  'https://www.nike.com/membership',\n",
    "#  'https://www.nike.com/register',"
   ]
  },
  {
   "cell_type": "code",
   "execution_count": 9,
   "id": "f969611e-adc7-4a98-91a3-2420fca05e76",
   "metadata": {},
   "outputs": [],
   "source": [
    "# find relavent links using one shot prompting, respond with json\n",
    "\n",
    "link_system_prompt = \"provided with a list of links found on a webpage. \\\n",
    "You are able to decide which of the links would be most relevant to include in a brochure about the company, \\\n",
    "such as links to an About page, or a Company page, or Careers/Jobs pages, or best products page.\\n\"\n",
    "link_system_prompt += \"You should respond in JSON as in this example:\"\n",
    "link_system_prompt += \"\"\"\n",
    "{\n",
    "    \"links\": [\n",
    "        {\"type\": \"about page\", \"url\": \"https://full.url/goes/here/about\"},\n",
    "        {\"type\": \"careers page\": \"url\": \"https://another.full.url/careers\"},\n",
    "        {\"type\": \"Membership page\": \"url\": \"https://another.full.url/Membership\"}\n",
    "    ]\n",
    "}\n",
    "\"\"\""
   ]
  },
  {
   "cell_type": "code",
   "execution_count": 10,
   "id": "efe63551-c5ed-401d-99c6-50b756eda006",
   "metadata": {},
   "outputs": [
    {
     "name": "stdout",
     "output_type": "stream",
     "text": [
      "provided with a list of links found on a webpage. You are able to decide which of the links would be most relevant to include in a brochure about the company, such as links to an About page, or a Company page, or Careers/Jobs pages, or best products page.\n",
      "You should respond in JSON as in this example:\n",
      "{\n",
      "    \"links\": [\n",
      "        {\"type\": \"about page\", \"url\": \"https://full.url/goes/here/about\"},\n",
      "        {\"type\": \"careers page\": \"url\": \"https://another.full.url/careers\"},\n",
      "        {\"type\": \"Membership page\": \"url\": \"https://another.full.url/Membership\"}\n",
      "    ]\n",
      "}\n",
      "\n"
     ]
    }
   ],
   "source": [
    "print(link_system_prompt)\n"
   ]
  },
  {
   "cell_type": "code",
   "execution_count": 11,
   "id": "b20f4668-cabb-463f-bc47-53385dec63f8",
   "metadata": {},
   "outputs": [],
   "source": [
    "#list out all links(relavent)\n",
    "def get_links_user_prompt(website):\n",
    "    user_prompt = f\"Here is the list of links on the website of {website.url} - \"\n",
    "    user_prompt += \"please decide which of these are relevant web links for a brochure about the company, respond with the full https URL in JSON format. \\\n",
    "Do not include Terms of Service, Privacy, email links.\\n\"\n",
    "    user_prompt += \"Links (some might be relative links):\\n\"\n",
    "    user_prompt += \"\\n\".join(website.links)\n",
    "    return user_prompt"
   ]
  },
  {
   "cell_type": "code",
   "execution_count": 13,
   "id": "4736a826-c8d9-410f-9ee8-8ed4c09545bc",
   "metadata": {
    "scrolled": true
   },
   "outputs": [],
   "source": [
    "# print(get_links_user_prompt(nk))\n",
    "\n",
    "\n",
    "#output\n",
    "# Here is the list of links on the website of https://nike.com - please decide which of these are relevant web links for a brochure about the company, respond with the full https URL in JSON format. Do not include Terms of Service, Privacy, email links.\n",
    "# Links (some might be relative links):\n",
    "# #skip-to-content\n",
    "# https://www.nike.com/jordan\n",
    "# https://www.nike.com/w/converse-akmjx\n",
    "# https://www.nike.com/retail\n",
    "# https://www.nike.com/help\n",
    "# https://www.nike.com/help\n",
    "# https://www.nike.com/orders/details/\n",
    "# https://www.nike.com/help/a/shipping-delivery\n",
    "# https://www.nike.com/help/a/returns-policy\n",
    "# https://www.nike.com/help/a/change-cancel-order\n",
    "# https://www.nike.com/help/a/size-charts\n",
    "# https://www.nike.com/help/#contact\n",
    "# https://www.nike.com/membership"
   ]
  },
  {
   "cell_type": "code",
   "execution_count": 14,
   "id": "c0eb61e4-f120-48d3-8ce1-5c91ec7e4728",
   "metadata": {},
   "outputs": [],
   "source": [
    "#use openai model call to get results in json\n",
    "\n",
    "def get_links(url):\n",
    "    website = Website(url)\n",
    "    response = openai.chat.completions.create(\n",
    "        model=MODEL,\n",
    "        messages=[\n",
    "            {\"role\": \"system\", \"content\": link_system_prompt},\n",
    "            {\"role\": \"user\", \"content\": get_links_user_prompt(website)}\n",
    "      ],\n",
    "        response_format={\"type\": \"json_object\"}\n",
    "    )\n",
    "    result = response.choices[0].message.content\n",
    "    return json.loads(result)"
   ]
  },
  {
   "cell_type": "code",
   "execution_count": 15,
   "id": "c8393b39-5286-4f82-ad57-567e11892315",
   "metadata": {
    "scrolled": true
   },
   "outputs": [],
   "source": [
    "# nike = Website(\"https://nike.com\")\n",
    "# nike.links\n",
    "\n",
    "\n",
    "\n",
    "# output\n",
    "# ['#skip-to-content',\n",
    "#  'https://www.nike.com/jordan',\n",
    "#  'https://www.nike.com/w/converse-akmjx',\n",
    "#  'https://www.nike.com/retail',\n",
    "#  'https://www.nike.com/help',\n",
    "#  'https://www.nike.com/help',\n",
    "#  'https://www.nike.com/orders/details/',\n",
    "#  'https://www.nike.com/help/a/shipping-delivery',\n",
    "#  'https://www.nike.com/help/a/returns-policy',\n",
    "#  'https://www.nike.com/help/a/change-cancel-order',\n",
    "#  'https://www.nike.com/help/a/size-charts',\n",
    "#  'https://www.nike.com/help/#contact',\n",
    "#  'https://www.nike.com/membership',\n",
    "#  'https://www.nike.com/promo-code',"
   ]
  },
  {
   "cell_type": "code",
   "execution_count": 16,
   "id": "8b1ad719-4906-405e-a21a-26635f3fdb64",
   "metadata": {},
   "outputs": [
    {
     "data": {
      "text/plain": [
       "{'links': [{'type': 'about page', 'url': 'https://about.nike.com/en'},\n",
       "  {'type': 'careers page', 'url': 'https://careers.nike.com/'},\n",
       "  {'type': 'sustainability page',\n",
       "   'url': 'https://www.nike.com/sustainability'},\n",
       "  {'type': 'company news', 'url': 'http://news.nike.com/'}]}"
      ]
     },
     "execution_count": 16,
     "metadata": {},
     "output_type": "execute_result"
    }
   ],
   "source": [
    "get_links(\"https://nike.com\")"
   ]
  },
  {
   "cell_type": "code",
   "execution_count": 56,
   "id": "61d5b9ea-8cb0-4090-927f-b5684bb003d3",
   "metadata": {},
   "outputs": [],
   "source": [
    "# part 2 make brochure\n",
    "\n",
    "\n",
    "\n",
    "\n",
    "\n",
    "\n",
    "\n",
    "\n",
    "\n",
    "\n"
   ]
  },
  {
   "cell_type": "code",
   "execution_count": 17,
   "id": "94af86bb-e1be-4a1f-9f23-4782e8b00891",
   "metadata": {},
   "outputs": [],
   "source": [
    "# call out chatgpt mini and get relavent links\n",
    "\n",
    "def get_all_details(url):\n",
    "    result = \"Landing page:\\n\"\n",
    "    result += Website(url).get_contents()\n",
    "    links = get_links(url)\n",
    "    print(\"Found links:\", links)\n",
    "    for link in links[\"links\"]:\n",
    "        result += f\"\\n\\n{link['type']}\\n\"\n",
    "        result += Website(link[\"url\"]).get_contents()\n",
    "    return result"
   ]
  },
  {
   "cell_type": "code",
   "execution_count": 18,
   "id": "94e504bd-925f-4a37-a82b-e434d1116a73",
   "metadata": {
    "scrolled": true
   },
   "outputs": [],
   "source": [
    "# print(get_all_details(\"https://nike.com\"))\n",
    "\n",
    "\n",
    "#output\n",
    "# Found links: {'links': [{'type': 'about page', 'url': 'https://about.nike.com/en'}, {'type': 'careers page', 'url': 'https://careers.nike.com/'}, {'type': 'company news', 'url': 'http://news.nike.com/'}, {'type': 'investor relations', 'url': 'http://investors.nike.com/'}, {'type': 'sustainability page', 'url': 'https://www.nike.com/sustainability'}, {'type': 'membership page', 'url': 'https://www.nike.com/membership'}, {'type': 'stories page', 'url': 'https://www.nike.com/stories'}]}\n",
    "# Landing page:\n",
    "# Webpage Title:\n",
    "# Nike. Just Do It. Nike.com\n",
    "# Webpage Contents:\n",
    "# Skip to main content\n",
    "# Find a Store\n",
    "# Help\n",
    "# Help\n",
    "# Order Status\n",
    "# Shipping & Delivery\n",
    "# Returns\n",
    "# Order Cancellation"
   ]
  },
  {
   "cell_type": "code",
   "execution_count": 19,
   "id": "ba6a6e94-2272-46ee-a2e8-26d57522948f",
   "metadata": {},
   "outputs": [],
   "source": [
    "system_prompt = \"You are an assistant that analyzes the contents of several relevant pages from a company website \\\n",
    "and creates a short brochure about the company for prospective customers, investors and recruits. Respond in markdown.\\\n",
    "Include details of company culture, customers and careers/jobs if you have the information.\""
   ]
  },
  {
   "cell_type": "code",
   "execution_count": 20,
   "id": "02d56c1e-96aa-41ea-a0f3-310481bd07be",
   "metadata": {},
   "outputs": [],
   "source": [
    "def get_brochure_user_prompt(company_name, url):\n",
    "    user_prompt = f\"You are looking at a company called: {company_name}\\n\"\n",
    "    user_prompt += f\"Here are the contents of its landing page and other relevant pages; use this information to build a short brochure of the company in markdown.\\n\"\n",
    "    user_prompt += get_all_details(url)\n",
    "    user_prompt = user_prompt[:5_000] # Truncate if more than 5,000 characters\n",
    "    return user_prompt"
   ]
  },
  {
   "cell_type": "code",
   "execution_count": 21,
   "id": "07d745f6-5d7b-4a1e-beca-85164250cd81",
   "metadata": {
    "scrolled": true
   },
   "outputs": [
    {
     "name": "stdout",
     "output_type": "stream",
     "text": [
      "Found links: {'links': [{'type': 'about page', 'url': 'https://about.nike.com/en'}, {'type': 'careers page', 'url': 'https://careers.nike.com/'}, {'type': 'sustainability page', 'url': 'https://www.nike.com/sustainability'}, {'type': 'membership page', 'url': 'https://www.nike.com/membership'}, {'type': 'company news', 'url': 'http://news.nike.com/'}]}\n"
     ]
    },
    {
     "data": {
      "text/plain": [
       "\"You are looking at a company called: Nike\\nHere are the contents of its landing page and other relevant pages; use this information to build a short brochure of the company in markdown.\\nLanding page:\\nWebpage Title:\\nNike. Just Do It. Nike.com\\nWebpage Contents:\\nSkip to main content\\nFind a Store\\nHelp\\nHelp\\nOrder Status\\nShipping & Delivery\\nReturns\\nOrder Cancellation\\nSize Charts\\nContact Us\\nMembership\\nPromotions & Discounts\\nProduct Advice\\nSend Us Feedback\\nJoin Us\\nSign In\\nNew\\nFeatured\\nNew Arrivals\\nBest Sellers\\nLatest Drops\\nStyle Your Air\\nVomero 18\\nFairway Ready\\nSNKRS Launch Calendar\\nShop New\\nMen\\nWomen\\nKids\\nShop All\\nTrending\\n24.7 Collection\\nNike Style By\\nSo Win Collection\\nACG Essentials\\nRare Air Collection\\nRunning Shoe Finder\\nMen\\nFeatured\\nNew Arrivals\\nBest Sellers\\nLatest Drops\\nStyle Your Air\\nSpring Essentials\\nShop All Sale\\nShoes\\nAll Shoes\\nBasketball\\nLifestyle\\nJordan\\nRetro Running\\nRunning\\nTraining & Gym\\nSandals & Slides\\nShoes $100 & Under\\nClothing\\nAll Clothing\\nHoodies & Sweatshirts\\nJordan\\nJackets & Vests\\nTracksuits\\n24.7 Collection\\nPants\\nShorts\\nTops & T-Shirts\\nAccessories\\nBags & Backpacks\\nHats & Headwear\\nSocks\\nSunglasses\\nBelts\\nWomen\\nFeatured\\nNew Arrivals\\nBest Sellers\\nLatest Drops\\nStyle Your Air\\nNike Style By\\nSo Win Collection\\nSpring Essentials\\nShop All Sale\\nShop by Color\\nBlue\\nPeach\\nPurple\\nNeon\\nNeutral\\nShoes\\nAll Shoes\\nBasketball\\nLifestyle\\nJordan\\nRetro Running\\nRunning\\nSandals & Slides\\nTraining & Gym\\nShoes $100 & Under\\nClothing\\nAll Clothing\\nBras\\nHoodies & Sweatshirts\\nLeggings\\nMatching Sets\\n24.7 Collection\\nJackets & Vests\\nPants\\nSkirts & Dresses\\nShorts\\nTops & T-Shirts\\nAccessories\\nBags & Backpacks\\nHats & Headwear\\nSocks\\nSunglasses\\nBelts\\nKids\\nFeatured\\nNew Arrivals\\nBest Sellers\\nLatest Drops\\nStyle Your Air\\nSpring Essentials\\nShop All Sale\\nShoes by Age\\nBig Kids (1Y - 7Y)\\nLittle Kids (8C - 3Y)\\nBaby & Toddler (1C - 10C)\\nTeen\\nAll Shoes\\nBasketball\\nLifestyle\\nJordan\\nRetro Running\\nRunning\\nSandals & Slides\\nSoccer\\nClothing by Age\\nBig Kids (XS - XL)\\nLittle Kids (4 - 7)\\nBaby & Toddler (0M - 4T)\\nTeen\\nAll Clothing\\nBras\\nHoodies & Sweatshirts\\nJordan\\nMatching Sets\\nJackets & Vests\\nPants & Tights\\nShorts\\nTops & T-Shirts\\nAccessories\\nBags & Backpacks\\nHats & Headwear\\nSocks\\nSunglasses\\nBelts\\nShop By Sport\\nGymnastics\\nBasketball\\nFootball\\nRunning\\nSoccer\\nJordan\\nFeatured\\nNew Arrivals\\nBest Sellers\\nRare Air Collection\\nShop All Sale\\nCollections\\nJordan Heat Check\\nJordan Cleats\\nJordan Sleeper Picks\\nColors of the Season\\nMen\\nShop All\\nShoes\\nAJ1\\nClothing\\nBasketball\\nWomen\\nShop All\\nShoes\\nAJ1\\nClothing\\nBasketball\\nKids\\nShop All\\nShoes\\nAJ1\\nClothing\\nBasketball\\nBig Kids\\nLittle Kids\\nBaby & Toddler\\nAccessories\\nShop All\\nBags & Backpacks\\nHats & Headwear\\nSport\\nBasketball\\nShoes\\nApparel\\nEquipment\\nKobe\\nJordan\\nNBA Gear\\nWNBA Gear\\nNCAA Gear\\nTraining\\nShoes\\nSocks\\nApparel\\nEquipment\\nRunning\\nRoad\\nRace\\nTrail\\nTrack & Field\\nApparel\\nEquipment\\nStride & Swift Collection\\nRunning Shoe Finder\\nGolf\\nFairway Ready\\nShoes\\nApparel\\nEquipment\\nJordan\\nSoccer\\nCleats\\nIndoor Footwear\\nApparel\\nEquipment\\nNational Team Gear\\nClub Team Gear\\nNWSL Gear\\nMore Sports\\nBaseball\\nCheer\\nFan Gear\\nFootball\\nGymnastics\\nLacrosse\\nPickleball\\nSoftball\\nSwimming\\nTennis\\nVolleyball\\nWrestling\\nCancel\\nCancel\\nPopular Search Terms\\nNike Basketball\\nTHE TASTE OF\\nVICTORY\\nThe UConn Huskies show who leads the pack with their 12th National Championship.\\nShop\\nShop Running\\nShop Basketball\\nShop Golf\\nIN RARE FORM\\nWomen's Air Jordan 1 High OG 'Rare Air'\\nShop\\nNike Basketball\\nTHE TASTE OF\\nVICTORY\\nThe UConn Huskies show who leads the pack with their 12th National Championship.\\nShop\\nShop Running\\nShop All\\nMen's\\nWomen's\\nKids'\\nShop Basketball\\nShop All\\nMen's\\nWomen's\\nKids'\\nShop Golf\\nShop All\\nMen's\\nWomen's\\nFootwear\\nIN RARE FORM\\nWomen's Air Jordan 1 High OG 'Rare Air'\\nShop\\nShop The Classics\\nAir Jordan 1\\nDunk\\nAir Force 1\\nAir Max\\nBlazer\\nVomero\\nCortez\\nShop The Classics\\n1\\n/\\n7\\nAir Jordan 1\\n2\\n/\\n7\\nDunk\\n3\\n/\\n7\\nAir Force 1\\n4\\n/\\n7\\nVomero\\n5\\n/\\n7\\nCortez\\n6\\n/\\n7\\nAir Max\\n7\\n/\\n7\\nNike Blazer\\nFind a Store\\nHelp\\nJoin Us\\nSign In\\nFeatured\\nAir Force 1\\nJordan 1\\nAir Max Dn\\nVomero\\nMetcon\\nAir Max 270\\nAir Max 90\\nBlazer\\nPegasus\\nShoes\\nAll Shoes\\nJordan Shoes\\nRunning Shoes\\nBasketball Shoes\\nTennis Shoes\\nTraining Shoes\\nCustom Shoes\\nSale Shoes\\nSoccer Cleats\\nClothing\\nAll Clothing\\nTops & T-Shirts\\nShorts\\nHoodies & Pullovers\\nJoggers & Sweatpants\\nSports Bras\\nPants & Tights\\nSocks\\nYoga\\nNikeLab\\nPlus Size\\nBig & Tall\\nSale Clothing\\nKids\\nInfant & Toddler Shoes\\nKids Shoes\\nKids Basketball Shoes\\nKids Running Shoes\\nKids Jordan Shoes\\nKids Clothing\\nKids Backpacks\\nKids Socks\\nKids Sale\\nResources\\nGift Cards\\nFind a Store\\nMembership\\nNike Journal\\nSite Feedback\\nHelp\\nGet Help\\nOrder Status\\nShipping and Delivery\\nReturns\\nOrder Cancellation\\nPayment Options\\nGift Card Balance\\nContact Us\\nCompany\\nAbout Nike\\nNews\\nCareers\\nInvestors\\nPurpose\\nSustainability\\nPromotions & Discounts\\nStudent\\nMilitary\\nTeacher\\nFirst Responders & Medical Professionals\\nBirthday\\nResources\\nGift Cards\\nFind a Store\\nMembership\\nNike Journal\\nSite Feedback\\nHelp\\nGet Help\\nOrder Status\\nShipping and Delivery\\nReturns\\nOrder Cancellation\\nPayment Options\\nGift Card Balance\\nContact Us\\nCom\""
      ]
     },
     "execution_count": 21,
     "metadata": {},
     "output_type": "execute_result"
    }
   ],
   "source": [
    "get_brochure_user_prompt(\"Nike\", \"https://nike.com\")\n"
   ]
  },
  {
   "cell_type": "code",
   "execution_count": 23,
   "id": "839c5ccf-4bba-46a8-8efb-16be07ad9661",
   "metadata": {},
   "outputs": [],
   "source": [
    "def create_brochure(company_name, url):\n",
    "    response = openai.chat.completions.create(\n",
    "        model=MODEL,\n",
    "        messages=[\n",
    "            {\"role\": \"system\", \"content\": system_prompt},\n",
    "            {\"role\": \"user\", \"content\": get_brochure_user_prompt(company_name, url)}\n",
    "          ],\n",
    "    )\n",
    "    result = response.choices[0].message.content\n",
    "    display(Markdown(result))"
   ]
  },
  {
   "cell_type": "code",
   "execution_count": null,
   "id": "6d2d1c0d-72d6-455c-9cb3-884a026ecbbf",
   "metadata": {},
   "outputs": [],
   "source": [
    "create_brochure(\"Nike\", \"https://nike.com\")\n"
   ]
  },
  {
   "cell_type": "code",
   "execution_count": null,
   "id": "b8f0dbd0-934d-4141-9f27-54666c3cc1cd",
   "metadata": {},
   "outputs": [],
   "source": []
  }
 ],
 "metadata": {
  "kernelspec": {
   "display_name": "Python 3 (ipykernel)",
   "language": "python",
   "name": "python3"
  },
  "language_info": {
   "codemirror_mode": {
    "name": "ipython",
    "version": 3
   },
   "file_extension": ".py",
   "mimetype": "text/x-python",
   "name": "python",
   "nbconvert_exporter": "python",
   "pygments_lexer": "ipython3",
   "version": "3.11.11"
  }
 },
 "nbformat": 4,
 "nbformat_minor": 5
}
